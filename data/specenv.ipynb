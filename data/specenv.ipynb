{
 "cells": [
  {
   "cell_type": "code",
   "execution_count": 1,
   "metadata": {},
   "outputs": [],
   "source": [
    "import numpy as np\n",
    "import matplotlib.pyplot as plt\n",
    "import time\n",
    "import os\n",
    "import re\n",
    "import rasterio\n",
    "import spenv\n",
    "import sys\n",
    "sys.path.insert(0, '../src/')\n",
    "import preproc"
   ]
  },
  {
   "cell_type": "code",
   "execution_count": 2,
   "metadata": {},
   "outputs": [
    {
     "name": "stdout",
     "output_type": "stream",
     "text": [
      "81 files found.\n"
     ]
    }
   ],
   "source": [
    "directory = 'raw'\n",
    "files = [directory + \"/\" + f for f in os.listdir(directory) if os.path.isfile(os.path.join(directory, f)) and f.startswith('raw')]\n",
    "\n",
    "def extract_number(s):\n",
    "    match = re.search(r'\\d+', s)\n",
    "    return int(match.group()) if match else float('inf')\n",
    "\n",
    "sorted_files = sorted(files, key=extract_number)\n",
    "print(str(len(sorted_files)) + ' files found.')"
   ]
  },
  {
   "cell_type": "code",
   "execution_count": 3,
   "metadata": {},
   "outputs": [],
   "source": [
    "rasters = []\n",
    "for i in sorted_files:\n",
    "    temp = rasterio.open(i)\n",
    "    rasters.append(temp.read())\n",
    "    temp.close()"
   ]
  },
  {
   "cell_type": "code",
   "execution_count": 4,
   "metadata": {},
   "outputs": [],
   "source": [
    "cube = np.concatenate(rasters)"
   ]
  },
  {
   "cell_type": "code",
   "execution_count": 5,
   "metadata": {},
   "outputs": [],
   "source": [
    "stdev = np.std(cube)\n",
    "avg = np.mean(cube)\n",
    "scaled = (cube - avg) / stdev"
   ]
  },
  {
   "cell_type": "code",
   "execution_count": 6,
   "metadata": {},
   "outputs": [],
   "source": [
    "for i in range(scaled.shape[0]):\n",
    "    file_name = 'scaled/scaled_' + str(i) + '.tif'\n",
    "    preproc.save_with_rio(file_name, scaled[i], temp)"
   ]
  },
  {
   "cell_type": "code",
   "execution_count": 9,
   "metadata": {},
   "outputs": [
    {
     "name": "stdout",
     "output_type": "stream",
     "text": [
      "Time: 918.86110663414\n"
     ]
    }
   ],
   "source": [
    "optimal = np.ndarray(scaled.shape)\n",
    "size = optimal.shape[1] * optimal.shape[2]\n",
    "counter = 0\n",
    "\n",
    "start = time.time()\n",
    "for i in range(0, optimal.shape[1]):\n",
    "    for j in range(0, optimal.shape[2]):\n",
    "        counter += 1\n",
    "        aux = scaled[:, i, j].reshape((-1, 1))\n",
    "        optimal[:, i, j] = spenv.spec_opt(aux, lambda t: np.abs(t)**5)\n",
    "        print(str(counter) + \"/\" + str(size), end=\"\\r\")\n",
    "\n",
    "end = time.time()\n",
    "print(\"Time: \" + str(end-start))"
   ]
  },
  {
   "cell_type": "code",
   "execution_count": 13,
   "metadata": {},
   "outputs": [],
   "source": [
    "for i in range(optimal.shape[0]):\n",
    "    file_name = 'optimized/optimized_' + str(i) + '.tif'\n",
    "    preproc.save_with_rio(file_name, optimal[i], temp)"
   ]
  },
  {
   "cell_type": "code",
   "execution_count": null,
   "metadata": {},
   "outputs": [],
   "source": []
  }
 ],
 "metadata": {
  "kernelspec": {
   "display_name": "specs",
   "language": "python",
   "name": "python3"
  },
  "language_info": {
   "codemirror_mode": {
    "name": "ipython",
    "version": 3
   },
   "file_extension": ".py",
   "mimetype": "text/x-python",
   "name": "python",
   "nbconvert_exporter": "python",
   "pygments_lexer": "ipython3",
   "version": "3.9.19"
  }
 },
 "nbformat": 4,
 "nbformat_minor": 2
}
